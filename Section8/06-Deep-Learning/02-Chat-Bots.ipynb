{
 "cells": [
  {
   "cell_type": "markdown",
   "metadata": {},
   "source": [
    "___\n",
    "\n",
    "<a href='http://www.pieriandata.com'> <img src='../../IMG/Pierian_Data_Logo.png' /></a>\n",
    "___\n",
    "# Question and Answer Chat Bots"
   ]
  },
  {
   "cell_type": "markdown",
   "metadata": {},
   "source": [
    "----\n",
    "\n",
    "------"
   ]
  },
  {
   "cell_type": "markdown",
   "metadata": {},
   "source": [
    "## Loading the Data\n",
    "\n",
    "We will be working with the Babi Data Set from Facebook Research.\n",
    "\n",
    "Full Details: https://research.fb.com/downloads/babi/\n",
    "\n",
    "- Jason Weston, Antoine Bordes, Sumit Chopra, Tomas Mikolov, Alexander M. Rush,\n",
    "  \"Towards AI-Complete Question Answering: A Set of Prerequisite Toy Tasks\",\n",
    "  http://arxiv.org/abs/1502.05698\n"
   ]
  },
  {
   "cell_type": "code",
   "execution_count": 1,
   "metadata": {},
   "outputs": [],
   "source": [
    "import pickle\n",
    "import numpy as np"
   ]
  },
  {
   "cell_type": "code",
   "execution_count": 2,
   "metadata": {},
   "outputs": [],
   "source": [
    "with open(\"train_qa.txt\", \"rb\") as fp:   # Unpickling\n",
    "    train_data =  pickle.load(fp)"
   ]
  },
  {
   "cell_type": "code",
   "execution_count": 3,
   "metadata": {},
   "outputs": [],
   "source": [
    "with open(\"test_qa.txt\", \"rb\") as fp:   # Unpickling\n",
    "    test_data =  pickle.load(fp)"
   ]
  },
  {
   "cell_type": "markdown",
   "metadata": {},
   "source": [
    "----"
   ]
  },
  {
   "cell_type": "markdown",
   "metadata": {},
   "source": [
    "## Exploring the Format of the Data"
   ]
  },
  {
   "cell_type": "code",
   "execution_count": 4,
   "metadata": {},
   "outputs": [
    {
     "data": {
      "text/plain": [
       "list"
      ]
     },
     "execution_count": 4,
     "metadata": {},
     "output_type": "execute_result"
    }
   ],
   "source": [
    "type(test_data)"
   ]
  },
  {
   "cell_type": "code",
   "execution_count": 5,
   "metadata": {},
   "outputs": [
    {
     "data": {
      "text/plain": [
       "list"
      ]
     },
     "execution_count": 5,
     "metadata": {},
     "output_type": "execute_result"
    }
   ],
   "source": [
    "type(train_data)"
   ]
  },
  {
   "cell_type": "code",
   "execution_count": 6,
   "metadata": {},
   "outputs": [
    {
     "data": {
      "text/plain": [
       "1000"
      ]
     },
     "execution_count": 6,
     "metadata": {},
     "output_type": "execute_result"
    }
   ],
   "source": [
    "len(test_data)"
   ]
  },
  {
   "cell_type": "code",
   "execution_count": 7,
   "metadata": {},
   "outputs": [
    {
     "data": {
      "text/plain": [
       "10000"
      ]
     },
     "execution_count": 7,
     "metadata": {},
     "output_type": "execute_result"
    }
   ],
   "source": [
    "len(train_data)"
   ]
  },
  {
   "cell_type": "code",
   "execution_count": 8,
   "metadata": {},
   "outputs": [
    {
     "data": {
      "text/plain": [
       "(['Mary',\n",
       "  'moved',\n",
       "  'to',\n",
       "  'the',\n",
       "  'bathroom',\n",
       "  '.',\n",
       "  'Sandra',\n",
       "  'journeyed',\n",
       "  'to',\n",
       "  'the',\n",
       "  'bedroom',\n",
       "  '.'],\n",
       " ['Is', 'Sandra', 'in', 'the', 'hallway', '?'],\n",
       " 'no')"
      ]
     },
     "execution_count": 8,
     "metadata": {},
     "output_type": "execute_result"
    }
   ],
   "source": [
    "train_data[0]"
   ]
  },
  {
   "cell_type": "code",
   "execution_count": 9,
   "metadata": {},
   "outputs": [
    {
     "data": {
      "text/plain": [
       "'Mary moved to the bathroom . Sandra journeyed to the bedroom .'"
      ]
     },
     "execution_count": 9,
     "metadata": {},
     "output_type": "execute_result"
    }
   ],
   "source": [
    "' '.join(train_data[0][0])"
   ]
  },
  {
   "cell_type": "code",
   "execution_count": 10,
   "metadata": {},
   "outputs": [
    {
     "data": {
      "text/plain": [
       "'Is Sandra in the hallway ?'"
      ]
     },
     "execution_count": 10,
     "metadata": {},
     "output_type": "execute_result"
    }
   ],
   "source": [
    "' '.join(train_data[0][1])"
   ]
  },
  {
   "cell_type": "code",
   "execution_count": 11,
   "metadata": {},
   "outputs": [
    {
     "data": {
      "text/plain": [
       "'no'"
      ]
     },
     "execution_count": 11,
     "metadata": {},
     "output_type": "execute_result"
    }
   ],
   "source": [
    "train_data[0][2]"
   ]
  },
  {
   "cell_type": "markdown",
   "metadata": {},
   "source": [
    "-----\n",
    "\n",
    "## Setting up Vocabulary of All Words"
   ]
  },
  {
   "cell_type": "code",
   "execution_count": 12,
   "metadata": {},
   "outputs": [],
   "source": [
    "# Create a set that holds the vocab words\n",
    "vocab = set()"
   ]
  },
  {
   "cell_type": "code",
   "execution_count": 13,
   "metadata": {},
   "outputs": [],
   "source": [
    "all_data = test_data + train_data"
   ]
  },
  {
   "cell_type": "code",
   "execution_count": 14,
   "metadata": {},
   "outputs": [],
   "source": [
    "for story, question , answer in all_data:\n",
    "    # In case you don't know what a union of sets is:\n",
    "    # https://www.programiz.com/python-programming/methods/set/union\n",
    "    vocab = vocab.union(set(story))\n",
    "    vocab = vocab.union(set(question))"
   ]
  },
  {
   "cell_type": "code",
   "execution_count": 15,
   "metadata": {},
   "outputs": [],
   "source": [
    "vocab.add('no')\n",
    "vocab.add('yes')"
   ]
  },
  {
   "cell_type": "code",
   "execution_count": 16,
   "metadata": {},
   "outputs": [
    {
     "data": {
      "text/plain": [
       "{'.',\n",
       " '?',\n",
       " 'Daniel',\n",
       " 'Is',\n",
       " 'John',\n",
       " 'Mary',\n",
       " 'Sandra',\n",
       " 'apple',\n",
       " 'back',\n",
       " 'bathroom',\n",
       " 'bedroom',\n",
       " 'discarded',\n",
       " 'down',\n",
       " 'dropped',\n",
       " 'football',\n",
       " 'garden',\n",
       " 'got',\n",
       " 'grabbed',\n",
       " 'hallway',\n",
       " 'in',\n",
       " 'journeyed',\n",
       " 'kitchen',\n",
       " 'left',\n",
       " 'milk',\n",
       " 'moved',\n",
       " 'no',\n",
       " 'office',\n",
       " 'picked',\n",
       " 'put',\n",
       " 'the',\n",
       " 'there',\n",
       " 'to',\n",
       " 'took',\n",
       " 'travelled',\n",
       " 'up',\n",
       " 'went',\n",
       " 'yes'}"
      ]
     },
     "execution_count": 16,
     "metadata": {},
     "output_type": "execute_result"
    }
   ],
   "source": [
    "vocab"
   ]
  },
  {
   "cell_type": "code",
   "execution_count": 17,
   "metadata": {},
   "outputs": [],
   "source": [
    "vocab_len = len(vocab) + 1 #we add an extra space to hold a 0 for Keras's pad_sequences"
   ]
  },
  {
   "cell_type": "code",
   "execution_count": 18,
   "metadata": {},
   "outputs": [],
   "source": [
    "max_story_len = max([len(data[0]) for data in all_data])"
   ]
  },
  {
   "cell_type": "code",
   "execution_count": 19,
   "metadata": {},
   "outputs": [
    {
     "data": {
      "text/plain": [
       "156"
      ]
     },
     "execution_count": 19,
     "metadata": {},
     "output_type": "execute_result"
    }
   ],
   "source": [
    "max_story_len"
   ]
  },
  {
   "cell_type": "code",
   "execution_count": 20,
   "metadata": {},
   "outputs": [],
   "source": [
    "max_question_len = max([len(data[1]) for data in all_data])"
   ]
  },
  {
   "cell_type": "code",
   "execution_count": 21,
   "metadata": {},
   "outputs": [
    {
     "data": {
      "text/plain": [
       "6"
      ]
     },
     "execution_count": 21,
     "metadata": {},
     "output_type": "execute_result"
    }
   ],
   "source": [
    "max_question_len"
   ]
  },
  {
   "cell_type": "markdown",
   "metadata": {},
   "source": [
    "## Vectorizing the Data"
   ]
  },
  {
   "cell_type": "code",
   "execution_count": 22,
   "metadata": {
    "scrolled": true
   },
   "outputs": [
    {
     "data": {
      "text/plain": [
       "{'.',\n",
       " '?',\n",
       " 'Daniel',\n",
       " 'Is',\n",
       " 'John',\n",
       " 'Mary',\n",
       " 'Sandra',\n",
       " 'apple',\n",
       " 'back',\n",
       " 'bathroom',\n",
       " 'bedroom',\n",
       " 'discarded',\n",
       " 'down',\n",
       " 'dropped',\n",
       " 'football',\n",
       " 'garden',\n",
       " 'got',\n",
       " 'grabbed',\n",
       " 'hallway',\n",
       " 'in',\n",
       " 'journeyed',\n",
       " 'kitchen',\n",
       " 'left',\n",
       " 'milk',\n",
       " 'moved',\n",
       " 'no',\n",
       " 'office',\n",
       " 'picked',\n",
       " 'put',\n",
       " 'the',\n",
       " 'there',\n",
       " 'to',\n",
       " 'took',\n",
       " 'travelled',\n",
       " 'up',\n",
       " 'went',\n",
       " 'yes'}"
      ]
     },
     "execution_count": 22,
     "metadata": {},
     "output_type": "execute_result"
    }
   ],
   "source": [
    "vocab"
   ]
  },
  {
   "cell_type": "code",
   "execution_count": 23,
   "metadata": {},
   "outputs": [],
   "source": [
    "# Reserve 0 for pad_sequences\n",
    "vocab_size = len(vocab) + 1"
   ]
  },
  {
   "cell_type": "markdown",
   "metadata": {},
   "source": [
    "-----------"
   ]
  },
  {
   "cell_type": "code",
   "execution_count": 24,
   "metadata": {},
   "outputs": [
    {
     "name": "stderr",
     "output_type": "stream",
     "text": [
      "Using TensorFlow backend.\n"
     ]
    }
   ],
   "source": [
    "from keras.preprocessing.sequence import pad_sequences\n",
    "from keras.preprocessing.text import Tokenizer"
   ]
  },
  {
   "cell_type": "markdown",
   "metadata": {},
   "source": [
    "Default `filters`: '!\\\"#$%&()*+,-./:;<=>?@[\\\\]^_`{|}~\\t\\n'"
   ]
  },
  {
   "cell_type": "code",
   "execution_count": 25,
   "metadata": {},
   "outputs": [],
   "source": [
    "# integer encode sequences of words\n",
    "tokenizer = Tokenizer(filters=[])\n",
    "tokenizer.fit_on_texts(vocab)"
   ]
  },
  {
   "cell_type": "code",
   "execution_count": 26,
   "metadata": {
    "scrolled": true
   },
   "outputs": [
    {
     "data": {
      "text/plain": [
       "{'picked': 1,\n",
       " 'garden': 2,\n",
       " 'daniel': 3,\n",
       " 'office': 4,\n",
       " 'left': 5,\n",
       " 'moved': 6,\n",
       " 'sandra': 7,\n",
       " 'to': 8,\n",
       " 'the': 9,\n",
       " 'john': 10,\n",
       " 'there': 11,\n",
       " 'bathroom': 12,\n",
       " 'went': 13,\n",
       " '?': 14,\n",
       " 'in': 15,\n",
       " 'mary': 16,\n",
       " 'kitchen': 17,\n",
       " 'is': 18,\n",
       " 'down': 19,\n",
       " 'milk': 20,\n",
       " 'up': 21,\n",
       " 'dropped': 22,\n",
       " 'bedroom': 23,\n",
       " 'hallway': 24,\n",
       " 'football': 25,\n",
       " 'discarded': 26,\n",
       " 'got': 27,\n",
       " 'grabbed': 28,\n",
       " 'took': 29,\n",
       " 'no': 30,\n",
       " 'travelled': 31,\n",
       " 'back': 32,\n",
       " '.': 33,\n",
       " 'journeyed': 34,\n",
       " 'yes': 35,\n",
       " 'put': 36,\n",
       " 'apple': 37}"
      ]
     },
     "execution_count": 26,
     "metadata": {},
     "output_type": "execute_result"
    }
   ],
   "source": [
    "tokenizer.word_index"
   ]
  },
  {
   "cell_type": "code",
   "execution_count": 27,
   "metadata": {},
   "outputs": [],
   "source": [
    "train_story_text = []\n",
    "train_question_text = []\n",
    "train_answers = []\n",
    "\n",
    "for story,question,answer in train_data:\n",
    "    train_story_text.append(story)\n",
    "    train_question_text.append(question)"
   ]
  },
  {
   "cell_type": "code",
   "execution_count": 28,
   "metadata": {},
   "outputs": [],
   "source": [
    "train_story_seq = tokenizer.texts_to_sequences(train_story_text)"
   ]
  },
  {
   "cell_type": "code",
   "execution_count": 29,
   "metadata": {},
   "outputs": [
    {
     "data": {
      "text/plain": [
       "10000"
      ]
     },
     "execution_count": 29,
     "metadata": {},
     "output_type": "execute_result"
    }
   ],
   "source": [
    "len(train_story_text)"
   ]
  },
  {
   "cell_type": "code",
   "execution_count": 30,
   "metadata": {},
   "outputs": [
    {
     "data": {
      "text/plain": [
       "10000"
      ]
     },
     "execution_count": 30,
     "metadata": {},
     "output_type": "execute_result"
    }
   ],
   "source": [
    "len(train_story_seq)"
   ]
  },
  {
   "cell_type": "code",
   "execution_count": 31,
   "metadata": {},
   "outputs": [],
   "source": [
    "# word_index = tokenizer.word_index"
   ]
  },
  {
   "cell_type": "markdown",
   "metadata": {},
   "source": [
    "### Functionalize Vectorization"
   ]
  },
  {
   "cell_type": "code",
   "execution_count": 32,
   "metadata": {},
   "outputs": [],
   "source": [
    "def vectorize_stories(data, word_index=tokenizer.word_index, max_story_len=max_story_len,max_question_len=max_question_len):\n",
    "    '''\n",
    "    INPUT: \n",
    "    \n",
    "    data: consisting of Stories,Queries,and Answers\n",
    "    word_index: word index dictionary from tokenizer\n",
    "    max_story_len: the length of the longest story (used for pad_sequences function)\n",
    "    max_question_len: length of the longest question (used for pad_sequences function)\n",
    "\n",
    "\n",
    "    OUTPUT:\n",
    "    \n",
    "    Vectorizes the stories,questions, and answers into padded sequences. We first loop for every story, query , and\n",
    "    answer in the data. Then we convert the raw words to an word index value. Then we append each set to their appropriate\n",
    "    output list. Then once we have converted the words to numbers, we pad the sequences so they are all of equal length.\n",
    "    \n",
    "    Returns this in the form of a tuple (X,Xq,Y) (padded based on max lengths)\n",
    "    '''\n",
    "    \n",
    "    \n",
    "    # X = STORIES\n",
    "    X = []\n",
    "    # Xq = QUERY/QUESTION\n",
    "    Xq = []\n",
    "    # Y = CORRECT ANSWER\n",
    "    Y = []\n",
    "    \n",
    "    \n",
    "    for story, query, answer in data:\n",
    "        \n",
    "        # Grab the word index for every word in story\n",
    "        x = [word_index[word.lower()] for word in story]\n",
    "        # Grab the word index for every word in query\n",
    "        xq = [word_index[word.lower()] for word in query]\n",
    "        \n",
    "        # Grab the Answers (either Yes/No so we don't need to use list comprehension here)\n",
    "        # Index 0 is reserved so we're going to use + 1\n",
    "        y = np.zeros(len(word_index) + 1)\n",
    "        \n",
    "        # Now that y is all zeros and we know its just Yes/No , we can use numpy logic to create this assignment\n",
    "        #\n",
    "        y[word_index[answer]] = 1\n",
    "        \n",
    "        # Append each set of story,query, and answer to their respective holding lists\n",
    "        X.append(x)\n",
    "        Xq.append(xq)\n",
    "        Y.append(y)\n",
    "        \n",
    "    # Finally, pad the sequences based on their max length so the RNN can be trained on uniformly long sequences.\n",
    "        \n",
    "    # RETURN TUPLE FOR UNPACKING\n",
    "    return (pad_sequences(X, maxlen=max_story_len),pad_sequences(Xq, maxlen=max_question_len), np.array(Y))"
   ]
  },
  {
   "cell_type": "code",
   "execution_count": 33,
   "metadata": {},
   "outputs": [],
   "source": [
    "inputs_train, queries_train, answers_train = vectorize_stories(train_data)"
   ]
  },
  {
   "cell_type": "code",
   "execution_count": 34,
   "metadata": {},
   "outputs": [],
   "source": [
    "inputs_test, queries_test, answers_test = vectorize_stories(test_data)"
   ]
  },
  {
   "cell_type": "code",
   "execution_count": 35,
   "metadata": {},
   "outputs": [
    {
     "data": {
      "text/plain": [
       "array([[ 0,  0,  0, ...,  9, 23, 33],\n",
       "       [ 0,  0,  0, ...,  9,  2, 33],\n",
       "       [ 0,  0,  0, ...,  9,  2, 33],\n",
       "       ...,\n",
       "       [ 0,  0,  0, ...,  9, 37, 33],\n",
       "       [ 0,  0,  0, ...,  9,  2, 33],\n",
       "       [ 0,  0,  0, ..., 37, 11, 33]])"
      ]
     },
     "execution_count": 35,
     "metadata": {},
     "output_type": "execute_result"
    }
   ],
   "source": [
    "inputs_test"
   ]
  },
  {
   "cell_type": "code",
   "execution_count": 36,
   "metadata": {},
   "outputs": [
    {
     "data": {
      "text/plain": [
       "array([[18, 10, 15,  9, 17, 14],\n",
       "       [18, 10, 15,  9, 17, 14],\n",
       "       [18, 10, 15,  9,  2, 14],\n",
       "       ...,\n",
       "       [18, 16, 15,  9, 23, 14],\n",
       "       [18,  7, 15,  9,  2, 14],\n",
       "       [18, 16, 15,  9,  2, 14]])"
      ]
     },
     "execution_count": 36,
     "metadata": {},
     "output_type": "execute_result"
    }
   ],
   "source": [
    "queries_test"
   ]
  },
  {
   "cell_type": "code",
   "execution_count": 37,
   "metadata": {},
   "outputs": [
    {
     "data": {
      "text/plain": [
       "array([[0., 0., 0., ..., 0., 0., 0.],\n",
       "       [0., 0., 0., ..., 0., 0., 0.],\n",
       "       [0., 0., 0., ..., 1., 0., 0.],\n",
       "       ...,\n",
       "       [0., 0., 0., ..., 0., 0., 0.],\n",
       "       [0., 0., 0., ..., 1., 0., 0.],\n",
       "       [0., 0., 0., ..., 1., 0., 0.]])"
      ]
     },
     "execution_count": 37,
     "metadata": {},
     "output_type": "execute_result"
    }
   ],
   "source": [
    "answers_test"
   ]
  },
  {
   "cell_type": "code",
   "execution_count": 38,
   "metadata": {},
   "outputs": [
    {
     "data": {
      "text/plain": [
       "array([  0.,   0.,   0.,   0.,   0.,   0.,   0.,   0.,   0.,   0.,   0.,\n",
       "         0.,   0.,   0.,   0.,   0.,   0.,   0.,   0.,   0.,   0.,   0.,\n",
       "         0.,   0.,   0.,   0.,   0.,   0.,   0.,   0., 503.,   0.,   0.,\n",
       "         0.,   0., 497.,   0.,   0.])"
      ]
     },
     "execution_count": 38,
     "metadata": {},
     "output_type": "execute_result"
    }
   ],
   "source": [
    "sum(answers_test)"
   ]
  },
  {
   "cell_type": "code",
   "execution_count": 39,
   "metadata": {},
   "outputs": [
    {
     "data": {
      "text/plain": [
       "35"
      ]
     },
     "execution_count": 39,
     "metadata": {},
     "output_type": "execute_result"
    }
   ],
   "source": [
    "tokenizer.word_index['yes']"
   ]
  },
  {
   "cell_type": "code",
   "execution_count": 40,
   "metadata": {},
   "outputs": [
    {
     "data": {
      "text/plain": [
       "30"
      ]
     },
     "execution_count": 40,
     "metadata": {},
     "output_type": "execute_result"
    }
   ],
   "source": [
    "tokenizer.word_index['no']"
   ]
  },
  {
   "cell_type": "markdown",
   "metadata": {},
   "source": [
    "## Creating the Model"
   ]
  },
  {
   "cell_type": "code",
   "execution_count": 41,
   "metadata": {},
   "outputs": [],
   "source": [
    "from keras.models import Sequential, Model\n",
    "from keras.layers.embeddings import Embedding\n",
    "from keras.layers import Input, Activation, Dense, Permute, Dropout\n",
    "from keras.layers import add, dot, concatenate\n",
    "from keras.layers import LSTM"
   ]
  },
  {
   "cell_type": "markdown",
   "metadata": {},
   "source": [
    "### Placeholders for Inputs\n",
    "\n",
    "Recall we technically have two inputs, stories and questions. So we need to use placeholders. `Input()` is used to instantiate a Keras tensor.\n"
   ]
  },
  {
   "cell_type": "code",
   "execution_count": 42,
   "metadata": {},
   "outputs": [],
   "source": [
    "input_sequence = Input((max_story_len,))\n",
    "question = Input((max_question_len,))"
   ]
  },
  {
   "cell_type": "markdown",
   "metadata": {
    "collapsed": true
   },
   "source": [
    "### Building the Networks\n",
    "\n",
    "To understand why we chose this setup, make sure to read the paper we are using:\n",
    "\n",
    "* Sainbayar Sukhbaatar, Arthur Szlam, Jason Weston, Rob Fergus,\n",
    "  \"End-To-End Memory Networks\",\n",
    "  http://arxiv.org/abs/1503.08895"
   ]
  },
  {
   "cell_type": "markdown",
   "metadata": {},
   "source": [
    "## Encoders\n",
    "\n",
    "### Input Encoder m"
   ]
  },
  {
   "cell_type": "code",
   "execution_count": 43,
   "metadata": {},
   "outputs": [
    {
     "name": "stdout",
     "output_type": "stream",
     "text": [
      "WARNING:tensorflow:From C:\\Users\\BigData\\AppData\\Local\\Continuum\\anaconda3\\envs\\nlp_course\\lib\\site-packages\\tensorflow\\python\\framework\\op_def_library.py:263: colocate_with (from tensorflow.python.framework.ops) is deprecated and will be removed in a future version.\n",
      "Instructions for updating:\n",
      "Colocations handled automatically by placer.\n",
      "WARNING:tensorflow:From C:\\Users\\BigData\\AppData\\Local\\Continuum\\anaconda3\\envs\\nlp_course\\lib\\site-packages\\keras\\backend\\tensorflow_backend.py:3445: calling dropout (from tensorflow.python.ops.nn_ops) with keep_prob is deprecated and will be removed in a future version.\n",
      "Instructions for updating:\n",
      "Please use `rate` instead of `keep_prob`. Rate should be set to `rate = 1 - keep_prob`.\n"
     ]
    }
   ],
   "source": [
    "# Input gets embedded to a sequence of vectors\n",
    "input_encoder_m = Sequential()\n",
    "input_encoder_m.add(Embedding(input_dim=vocab_size,output_dim=64))\n",
    "input_encoder_m.add(Dropout(0.3))\n",
    "\n",
    "# This encoder will output:\n",
    "# (samples, story_maxlen, embedding_dim)"
   ]
  },
  {
   "cell_type": "markdown",
   "metadata": {},
   "source": [
    "### Input Encoder c"
   ]
  },
  {
   "cell_type": "code",
   "execution_count": 44,
   "metadata": {},
   "outputs": [],
   "source": [
    "# embed the input into a sequence of vectors of size query_maxlen\n",
    "input_encoder_c = Sequential()\n",
    "input_encoder_c.add(Embedding(input_dim=vocab_size,output_dim=max_question_len))\n",
    "input_encoder_c.add(Dropout(0.3))\n",
    "# output: (samples, story_maxlen, query_maxlen)"
   ]
  },
  {
   "cell_type": "markdown",
   "metadata": {},
   "source": [
    "### Question Encoder"
   ]
  },
  {
   "cell_type": "code",
   "execution_count": 45,
   "metadata": {},
   "outputs": [],
   "source": [
    "# embed the question into a sequence of vectors\n",
    "question_encoder = Sequential()\n",
    "question_encoder.add(Embedding(input_dim=vocab_size,\n",
    "                               output_dim=64,\n",
    "                               input_length=max_question_len))\n",
    "question_encoder.add(Dropout(0.3))\n",
    "# output: (samples, query_maxlen, embedding_dim)"
   ]
  },
  {
   "cell_type": "markdown",
   "metadata": {},
   "source": [
    "### Encode the Sequences"
   ]
  },
  {
   "cell_type": "code",
   "execution_count": 46,
   "metadata": {},
   "outputs": [],
   "source": [
    "# encode input sequence and questions (which are indices)\n",
    "# to sequences of dense vectors\n",
    "input_encoded_m = input_encoder_m(input_sequence)\n",
    "input_encoded_c = input_encoder_c(input_sequence)\n",
    "question_encoded = question_encoder(question)"
   ]
  },
  {
   "cell_type": "markdown",
   "metadata": {},
   "source": [
    "##### Use dot product to compute the match between first input vector seq and the query"
   ]
  },
  {
   "cell_type": "code",
   "execution_count": 47,
   "metadata": {},
   "outputs": [],
   "source": [
    "# shape: `(samples, story_maxlen, query_maxlen)`\n",
    "match = dot([input_encoded_m, question_encoded], axes=(2, 2))\n",
    "match = Activation('softmax')(match)"
   ]
  },
  {
   "cell_type": "markdown",
   "metadata": {},
   "source": [
    "#### Add this match matrix with the second input vector sequence"
   ]
  },
  {
   "cell_type": "code",
   "execution_count": 48,
   "metadata": {},
   "outputs": [],
   "source": [
    "# add the match matrix with the second input vector sequence\n",
    "response = add([match, input_encoded_c])  # (samples, story_maxlen, query_maxlen)\n",
    "response = Permute((2, 1))(response)  # (samples, query_maxlen, story_maxlen)"
   ]
  },
  {
   "cell_type": "markdown",
   "metadata": {},
   "source": [
    "#### Concatenate"
   ]
  },
  {
   "cell_type": "code",
   "execution_count": 49,
   "metadata": {},
   "outputs": [],
   "source": [
    "# concatenate the match matrix with the question vector sequence\n",
    "answer = concatenate([response, question_encoded])"
   ]
  },
  {
   "cell_type": "code",
   "execution_count": 50,
   "metadata": {},
   "outputs": [
    {
     "data": {
      "text/plain": [
       "<tf.Tensor 'concatenate_1/concat:0' shape=(?, 6, 220) dtype=float32>"
      ]
     },
     "execution_count": 50,
     "metadata": {},
     "output_type": "execute_result"
    }
   ],
   "source": [
    "answer"
   ]
  },
  {
   "cell_type": "code",
   "execution_count": 51,
   "metadata": {},
   "outputs": [],
   "source": [
    "# Reduce with RNN (LSTM)\n",
    "answer = LSTM(32)(answer)  # (samples, 32)"
   ]
  },
  {
   "cell_type": "code",
   "execution_count": 52,
   "metadata": {},
   "outputs": [],
   "source": [
    "# Regularization with Dropout\n",
    "answer = Dropout(0.5)(answer)\n",
    "answer = Dense(vocab_size)(answer)  # (samples, vocab_size)"
   ]
  },
  {
   "cell_type": "code",
   "execution_count": 53,
   "metadata": {},
   "outputs": [],
   "source": [
    "# we output a probability distribution over the vocabulary\n",
    "answer = Activation('softmax')(answer)\n",
    "\n",
    "# build the final model\n",
    "model = Model([input_sequence, question], answer)\n",
    "model.compile(optimizer='rmsprop', loss='categorical_crossentropy',\n",
    "              metrics=['accuracy'])"
   ]
  },
  {
   "cell_type": "code",
   "execution_count": 54,
   "metadata": {},
   "outputs": [
    {
     "name": "stdout",
     "output_type": "stream",
     "text": [
      "__________________________________________________________________________________________________\n",
      "Layer (type)                    Output Shape         Param #     Connected to                     \n",
      "==================================================================================================\n",
      "input_1 (InputLayer)            (None, 156)          0                                            \n",
      "__________________________________________________________________________________________________\n",
      "input_2 (InputLayer)            (None, 6)            0                                            \n",
      "__________________________________________________________________________________________________\n",
      "sequential_1 (Sequential)       multiple             2432        input_1[0][0]                    \n",
      "__________________________________________________________________________________________________\n",
      "sequential_3 (Sequential)       (None, 6, 64)        2432        input_2[0][0]                    \n",
      "__________________________________________________________________________________________________\n",
      "dot_1 (Dot)                     (None, 156, 6)       0           sequential_1[1][0]               \n",
      "                                                                 sequential_3[1][0]               \n",
      "__________________________________________________________________________________________________\n",
      "activation_1 (Activation)       (None, 156, 6)       0           dot_1[0][0]                      \n",
      "__________________________________________________________________________________________________\n",
      "sequential_2 (Sequential)       multiple             228         input_1[0][0]                    \n",
      "__________________________________________________________________________________________________\n",
      "add_1 (Add)                     (None, 156, 6)       0           activation_1[0][0]               \n",
      "                                                                 sequential_2[1][0]               \n",
      "__________________________________________________________________________________________________\n",
      "permute_1 (Permute)             (None, 6, 156)       0           add_1[0][0]                      \n",
      "__________________________________________________________________________________________________\n",
      "concatenate_1 (Concatenate)     (None, 6, 220)       0           permute_1[0][0]                  \n",
      "                                                                 sequential_3[1][0]               \n",
      "__________________________________________________________________________________________________\n",
      "lstm_1 (LSTM)                   (None, 32)           32384       concatenate_1[0][0]              \n",
      "__________________________________________________________________________________________________\n",
      "dropout_4 (Dropout)             (None, 32)           0           lstm_1[0][0]                     \n",
      "__________________________________________________________________________________________________\n",
      "dense_1 (Dense)                 (None, 38)           1254        dropout_4[0][0]                  \n",
      "__________________________________________________________________________________________________\n",
      "activation_2 (Activation)       (None, 38)           0           dense_1[0][0]                    \n",
      "==================================================================================================\n",
      "Total params: 38,730\n",
      "Trainable params: 38,730\n",
      "Non-trainable params: 0\n",
      "__________________________________________________________________________________________________\n"
     ]
    }
   ],
   "source": [
    "model.summary()"
   ]
  },
  {
   "cell_type": "code",
   "execution_count": 55,
   "metadata": {},
   "outputs": [
    {
     "name": "stdout",
     "output_type": "stream",
     "text": [
      "WARNING:tensorflow:From C:\\Users\\BigData\\AppData\\Local\\Continuum\\anaconda3\\envs\\nlp_course\\lib\\site-packages\\tensorflow\\python\\ops\\math_ops.py:3066: to_int32 (from tensorflow.python.ops.math_ops) is deprecated and will be removed in a future version.\n",
      "Instructions for updating:\n",
      "Use tf.cast instead.\n",
      "WARNING:tensorflow:From C:\\Users\\BigData\\AppData\\Local\\Continuum\\anaconda3\\envs\\nlp_course\\lib\\site-packages\\tensorflow\\python\\ops\\math_grad.py:102: div (from tensorflow.python.ops.math_ops) is deprecated and will be removed in a future version.\n",
      "Instructions for updating:\n",
      "Deprecated in favor of operator or tf.math.divide.\n",
      "Train on 10000 samples, validate on 1000 samples\n",
      "Epoch 1/120\n",
      "10000/10000 [==============================] - 5s 500us/step - loss: 0.9067 - acc: 0.4919 - val_loss: 0.6948 - val_acc: 0.4970\n",
      "Epoch 2/120\n",
      "10000/10000 [==============================] - 3s 291us/step - loss: 0.7073 - acc: 0.4946 - val_loss: 0.6933 - val_acc: 0.5030\n",
      "Epoch 3/120\n",
      "10000/10000 [==============================] - 3s 334us/step - loss: 0.6973 - acc: 0.4966 - val_loss: 0.6942 - val_acc: 0.4970\n",
      "Epoch 4/120\n",
      "10000/10000 [==============================] - 3s 289us/step - loss: 0.6947 - acc: 0.5023 - val_loss: 0.6932 - val_acc: 0.5030\n",
      "Epoch 5/120\n",
      "10000/10000 [==============================] - 3s 280us/step - loss: 0.6949 - acc: 0.4971 - val_loss: 0.6949 - val_acc: 0.5030\n",
      "Epoch 6/120\n",
      "10000/10000 [==============================] - 3s 281us/step - loss: 0.6943 - acc: 0.5087 - val_loss: 0.6932 - val_acc: 0.4970\n",
      "Epoch 7/120\n",
      "10000/10000 [==============================] - 3s 277us/step - loss: 0.6948 - acc: 0.4953 - val_loss: 0.6936 - val_acc: 0.5030\n",
      "Epoch 8/120\n",
      "10000/10000 [==============================] - 3s 284us/step - loss: 0.6942 - acc: 0.5002 - val_loss: 0.6943 - val_acc: 0.5030\n",
      "Epoch 9/120\n",
      "10000/10000 [==============================] - 3s 278us/step - loss: 0.6946 - acc: 0.4917 - val_loss: 0.6939 - val_acc: 0.4980\n",
      "Epoch 10/120\n",
      "10000/10000 [==============================] - 3s 318us/step - loss: 0.6942 - acc: 0.5022 - val_loss: 0.6939 - val_acc: 0.5030\n",
      "Epoch 11/120\n",
      "10000/10000 [==============================] - 3s 305us/step - loss: 0.6936 - acc: 0.5104 - val_loss: 0.6950 - val_acc: 0.4940\n",
      "Epoch 12/120\n",
      "10000/10000 [==============================] - 3s 280us/step - loss: 0.6917 - acc: 0.5200 - val_loss: 0.6924 - val_acc: 0.5160\n",
      "Epoch 13/120\n",
      "10000/10000 [==============================] - 3s 279us/step - loss: 0.6692 - acc: 0.5852 - val_loss: 0.6478 - val_acc: 0.6510\n",
      "Epoch 14/120\n",
      "10000/10000 [==============================] - 3s 283us/step - loss: 0.6410 - acc: 0.6312 - val_loss: 0.6370 - val_acc: 0.6430\n",
      "Epoch 15/120\n",
      "10000/10000 [==============================] - 3s 280us/step - loss: 0.6359 - acc: 0.6407 - val_loss: 0.6176 - val_acc: 0.6650\n",
      "Epoch 16/120\n",
      "10000/10000 [==============================] - 3s 287us/step - loss: 0.6202 - acc: 0.6641 - val_loss: 0.6053 - val_acc: 0.6780\n",
      "Epoch 17/120\n",
      "10000/10000 [==============================] - 3s 281us/step - loss: 0.6038 - acc: 0.6782 - val_loss: 0.5635 - val_acc: 0.7160\n",
      "Epoch 18/120\n",
      "10000/10000 [==============================] - 3s 280us/step - loss: 0.5689 - acc: 0.7021 - val_loss: 0.5424 - val_acc: 0.7230\n",
      "Epoch 19/120\n",
      "10000/10000 [==============================] - 3s 282us/step - loss: 0.5417 - acc: 0.7317 - val_loss: 0.5430 - val_acc: 0.7260\n",
      "Epoch 20/120\n",
      "10000/10000 [==============================] - 3s 280us/step - loss: 0.5200 - acc: 0.7444 - val_loss: 0.4777 - val_acc: 0.7760\n",
      "Epoch 21/120\n",
      "10000/10000 [==============================] - 3s 281us/step - loss: 0.4957 - acc: 0.7654 - val_loss: 0.4943 - val_acc: 0.7700\n",
      "Epoch 22/120\n",
      "10000/10000 [==============================] - 4s 386us/step - loss: 0.4797 - acc: 0.7792 - val_loss: 0.4339 - val_acc: 0.8020\n",
      "Epoch 23/120\n",
      "10000/10000 [==============================] - 3s 330us/step - loss: 0.4520 - acc: 0.8009 - val_loss: 0.4129 - val_acc: 0.8200\n",
      "Epoch 24/120\n",
      "10000/10000 [==============================] - 3s 293us/step - loss: 0.4285 - acc: 0.8142 - val_loss: 0.4259 - val_acc: 0.8030\n",
      "Epoch 25/120\n",
      "10000/10000 [==============================] - 3s 302us/step - loss: 0.4184 - acc: 0.8193 - val_loss: 0.4948 - val_acc: 0.7740\n",
      "Epoch 26/120\n",
      "10000/10000 [==============================] - 3s 344us/step - loss: 0.4036 - acc: 0.8300 - val_loss: 0.3961 - val_acc: 0.8230\n",
      "Epoch 27/120\n",
      "10000/10000 [==============================] - 3s 318us/step - loss: 0.3950 - acc: 0.8321 - val_loss: 0.4027 - val_acc: 0.8290\n",
      "Epoch 28/120\n",
      "10000/10000 [==============================] - 4s 360us/step - loss: 0.3837 - acc: 0.8352 - val_loss: 0.3713 - val_acc: 0.8410\n",
      "Epoch 29/120\n",
      "10000/10000 [==============================] - 4s 361us/step - loss: 0.3707 - acc: 0.8397 - val_loss: 0.3635 - val_acc: 0.8310\n",
      "Epoch 30/120\n",
      "10000/10000 [==============================] - 3s 329us/step - loss: 0.3597 - acc: 0.8457 - val_loss: 0.3548 - val_acc: 0.8330\n",
      "Epoch 31/120\n",
      "10000/10000 [==============================] - 3s 317us/step - loss: 0.3588 - acc: 0.8466 - val_loss: 0.3512 - val_acc: 0.8400\n",
      "Epoch 32/120\n",
      "10000/10000 [==============================] - 3s 289us/step - loss: 0.3475 - acc: 0.8487 - val_loss: 0.3528 - val_acc: 0.8390\n",
      "Epoch 33/120\n",
      "10000/10000 [==============================] - 3s 286us/step - loss: 0.3360 - acc: 0.8550 - val_loss: 0.3440 - val_acc: 0.8390\n",
      "Epoch 34/120\n",
      "10000/10000 [==============================] - 3s 306us/step - loss: 0.3374 - acc: 0.8555 - val_loss: 0.3495 - val_acc: 0.8300\n",
      "Epoch 35/120\n",
      "10000/10000 [==============================] - 3s 314us/step - loss: 0.3289 - acc: 0.8545 - val_loss: 0.3396 - val_acc: 0.8340\n",
      "Epoch 36/120\n",
      "10000/10000 [==============================] - 3s 283us/step - loss: 0.3289 - acc: 0.8546 - val_loss: 0.3366 - val_acc: 0.8460\n",
      "Epoch 37/120\n",
      "10000/10000 [==============================] - 3s 280us/step - loss: 0.3290 - acc: 0.8586 - val_loss: 0.3488 - val_acc: 0.8390\n",
      "Epoch 38/120\n",
      "10000/10000 [==============================] - 3s 280us/step - loss: 0.3188 - acc: 0.8600 - val_loss: 0.3483 - val_acc: 0.8420\n",
      "Epoch 39/120\n",
      "10000/10000 [==============================] - 3s 282us/step - loss: 0.3205 - acc: 0.8608 - val_loss: 0.3440 - val_acc: 0.8340\n",
      "Epoch 40/120\n",
      "10000/10000 [==============================] - 3s 281us/step - loss: 0.3174 - acc: 0.8602 - val_loss: 0.3418 - val_acc: 0.8400\n",
      "Epoch 41/120\n",
      "10000/10000 [==============================] - 3s 282us/step - loss: 0.3111 - acc: 0.8651 - val_loss: 0.3401 - val_acc: 0.8370\n",
      "Epoch 42/120\n",
      "10000/10000 [==============================] - 3s 280us/step - loss: 0.3127 - acc: 0.8640 - val_loss: 0.3617 - val_acc: 0.8450\n",
      "Epoch 43/120\n",
      "10000/10000 [==============================] - 3s 281us/step - loss: 0.3096 - acc: 0.8644 - val_loss: 0.3463 - val_acc: 0.8450\n",
      "Epoch 44/120\n",
      "10000/10000 [==============================] - 3s 282us/step - loss: 0.3064 - acc: 0.8655 - val_loss: 0.3558 - val_acc: 0.8360\n",
      "Epoch 45/120\n",
      "10000/10000 [==============================] - 3s 286us/step - loss: 0.3082 - acc: 0.8652 - val_loss: 0.3339 - val_acc: 0.8410\n",
      "Epoch 46/120\n",
      "10000/10000 [==============================] - 4s 355us/step - loss: 0.3025 - acc: 0.8679 - val_loss: 0.3521 - val_acc: 0.8390\n",
      "Epoch 47/120\n",
      "10000/10000 [==============================] - 3s 313us/step - loss: 0.3032 - acc: 0.8665 - val_loss: 0.3400 - val_acc: 0.8350\n",
      "Epoch 48/120\n",
      "10000/10000 [==============================] - 3s 308us/step - loss: 0.3009 - acc: 0.8695 - val_loss: 0.3358 - val_acc: 0.8400\n",
      "Epoch 49/120\n",
      "10000/10000 [==============================] - 3s 282us/step - loss: 0.3001 - acc: 0.8674 - val_loss: 0.3513 - val_acc: 0.8350\n",
      "Epoch 50/120\n",
      "10000/10000 [==============================] - 3s 279us/step - loss: 0.2997 - acc: 0.8703 - val_loss: 0.3693 - val_acc: 0.8450\n",
      "Epoch 51/120\n",
      "10000/10000 [==============================] - 3s 297us/step - loss: 0.2976 - acc: 0.8708 - val_loss: 0.3409 - val_acc: 0.8390\n",
      "Epoch 52/120\n",
      "10000/10000 [==============================] - 3s 325us/step - loss: 0.2945 - acc: 0.8717 - val_loss: 0.3855 - val_acc: 0.8340\n",
      "Epoch 53/120\n",
      "10000/10000 [==============================] - 3s 326us/step - loss: 0.2906 - acc: 0.8714 - val_loss: 0.3385 - val_acc: 0.8330\n",
      "Epoch 54/120\n",
      "10000/10000 [==============================] - 3s 292us/step - loss: 0.2914 - acc: 0.8765 - val_loss: 0.3832 - val_acc: 0.8280\n"
     ]
    },
    {
     "name": "stdout",
     "output_type": "stream",
     "text": [
      "Epoch 55/120\n",
      "10000/10000 [==============================] - 3s 280us/step - loss: 0.2953 - acc: 0.8697 - val_loss: 0.3636 - val_acc: 0.8380\n",
      "Epoch 56/120\n",
      "10000/10000 [==============================] - 3s 282us/step - loss: 0.2902 - acc: 0.8718 - val_loss: 0.3631 - val_acc: 0.8410\n",
      "Epoch 57/120\n",
      "10000/10000 [==============================] - 3s 281us/step - loss: 0.2894 - acc: 0.8736 - val_loss: 0.3542 - val_acc: 0.8430\n",
      "Epoch 58/120\n",
      "10000/10000 [==============================] - 3s 303us/step - loss: 0.2919 - acc: 0.8736 - val_loss: 0.3498 - val_acc: 0.8400\n",
      "Epoch 59/120\n",
      "10000/10000 [==============================] - 3s 306us/step - loss: 0.2916 - acc: 0.8742 - val_loss: 0.3575 - val_acc: 0.8410\n",
      "Epoch 60/120\n",
      "10000/10000 [==============================] - 3s 303us/step - loss: 0.2914 - acc: 0.8744 - val_loss: 0.3507 - val_acc: 0.8400\n",
      "Epoch 61/120\n",
      "10000/10000 [==============================] - 3s 294us/step - loss: 0.2864 - acc: 0.8750 - val_loss: 0.3823 - val_acc: 0.8370\n",
      "Epoch 62/120\n",
      "10000/10000 [==============================] - 3s 285us/step - loss: 0.2791 - acc: 0.8751 - val_loss: 0.3762 - val_acc: 0.8360\n",
      "Epoch 63/120\n",
      "10000/10000 [==============================] - 3s 281us/step - loss: 0.2856 - acc: 0.8759 - val_loss: 0.3555 - val_acc: 0.8380\n",
      "Epoch 64/120\n",
      "10000/10000 [==============================] - 3s 283us/step - loss: 0.2815 - acc: 0.8767 - val_loss: 0.3739 - val_acc: 0.8280\n",
      "Epoch 65/120\n",
      "10000/10000 [==============================] - 3s 287us/step - loss: 0.2811 - acc: 0.8784 - val_loss: 0.3689 - val_acc: 0.8390\n",
      "Epoch 66/120\n",
      "10000/10000 [==============================] - 3s 289us/step - loss: 0.2799 - acc: 0.8768 - val_loss: 0.3760 - val_acc: 0.8330\n",
      "Epoch 67/120\n",
      "10000/10000 [==============================] - 3s 289us/step - loss: 0.2767 - acc: 0.8767 - val_loss: 0.3661 - val_acc: 0.8400\n",
      "Epoch 68/120\n",
      "10000/10000 [==============================] - 3s 284us/step - loss: 0.2788 - acc: 0.8766 - val_loss: 0.3590 - val_acc: 0.8340\n",
      "Epoch 69/120\n",
      "10000/10000 [==============================] - 3s 282us/step - loss: 0.2751 - acc: 0.8798 - val_loss: 0.3668 - val_acc: 0.8280\n",
      "Epoch 70/120\n",
      "10000/10000 [==============================] - 3s 281us/step - loss: 0.2749 - acc: 0.8776 - val_loss: 0.3976 - val_acc: 0.8240\n",
      "Epoch 71/120\n",
      "10000/10000 [==============================] - 3s 282us/step - loss: 0.2716 - acc: 0.8821 - val_loss: 0.3848 - val_acc: 0.8310\n",
      "Epoch 72/120\n",
      "10000/10000 [==============================] - 3s 285us/step - loss: 0.2713 - acc: 0.8841 - val_loss: 0.3894 - val_acc: 0.8290\n",
      "Epoch 73/120\n",
      "10000/10000 [==============================] - 3s 282us/step - loss: 0.2735 - acc: 0.8801 - val_loss: 0.3928 - val_acc: 0.8410\n",
      "Epoch 74/120\n",
      "10000/10000 [==============================] - 3s 281us/step - loss: 0.2679 - acc: 0.8809 - val_loss: 0.3766 - val_acc: 0.8410\n",
      "Epoch 75/120\n",
      "10000/10000 [==============================] - 3s 282us/step - loss: 0.2659 - acc: 0.8838 - val_loss: 0.3867 - val_acc: 0.8280\n",
      "Epoch 76/120\n",
      "10000/10000 [==============================] - 3s 281us/step - loss: 0.2657 - acc: 0.8853 - val_loss: 0.3810 - val_acc: 0.8350\n",
      "Epoch 77/120\n",
      "10000/10000 [==============================] - 3s 316us/step - loss: 0.2663 - acc: 0.8846 - val_loss: 0.3704 - val_acc: 0.8330\n",
      "Epoch 78/120\n",
      "10000/10000 [==============================] - 3s 340us/step - loss: 0.2660 - acc: 0.8812 - val_loss: 0.3760 - val_acc: 0.8380\n",
      "Epoch 79/120\n",
      "10000/10000 [==============================] - 3s 295us/step - loss: 0.2636 - acc: 0.8850 - val_loss: 0.4136 - val_acc: 0.8330\n",
      "Epoch 80/120\n",
      "10000/10000 [==============================] - 3s 299us/step - loss: 0.2610 - acc: 0.8870 - val_loss: 0.4109 - val_acc: 0.8320\n",
      "Epoch 81/120\n",
      "10000/10000 [==============================] - 3s 289us/step - loss: 0.2591 - acc: 0.8856 - val_loss: 0.4083 - val_acc: 0.8170\n",
      "Epoch 82/120\n",
      "10000/10000 [==============================] - 4s 364us/step - loss: 0.2618 - acc: 0.8879 - val_loss: 0.4638 - val_acc: 0.8250\n",
      "Epoch 83/120\n",
      "10000/10000 [==============================] - 3s 328us/step - loss: 0.2531 - acc: 0.8901 - val_loss: 0.4293 - val_acc: 0.8340\n",
      "Epoch 84/120\n",
      "10000/10000 [==============================] - 3s 346us/step - loss: 0.2574 - acc: 0.8875 - val_loss: 0.4145 - val_acc: 0.8310\n",
      "Epoch 85/120\n",
      "10000/10000 [==============================] - 3s 319us/step - loss: 0.2573 - acc: 0.8854 - val_loss: 0.4266 - val_acc: 0.8210\n",
      "Epoch 86/120\n",
      "10000/10000 [==============================] - 3s 287us/step - loss: 0.2555 - acc: 0.8905 - val_loss: 0.4114 - val_acc: 0.8290\n",
      "Epoch 87/120\n",
      "10000/10000 [==============================] - 3s 285us/step - loss: 0.2568 - acc: 0.8888 - val_loss: 0.4151 - val_acc: 0.8310\n",
      "Epoch 88/120\n",
      "10000/10000 [==============================] - 3s 294us/step - loss: 0.2542 - acc: 0.8928 - val_loss: 0.4245 - val_acc: 0.8130\n",
      "Epoch 89/120\n",
      "10000/10000 [==============================] - 3s 293us/step - loss: 0.2464 - acc: 0.8906 - val_loss: 0.4090 - val_acc: 0.8320\n",
      "Epoch 90/120\n",
      "10000/10000 [==============================] - 3s 292us/step - loss: 0.2557 - acc: 0.8881 - val_loss: 0.4174 - val_acc: 0.8320\n",
      "Epoch 91/120\n",
      "10000/10000 [==============================] - 3s 302us/step - loss: 0.2460 - acc: 0.8889 - val_loss: 0.4461 - val_acc: 0.8350\n",
      "Epoch 92/120\n",
      "10000/10000 [==============================] - 3s 283us/step - loss: 0.2441 - acc: 0.8942 - val_loss: 0.4128 - val_acc: 0.8350\n",
      "Epoch 93/120\n",
      "10000/10000 [==============================] - 3s 285us/step - loss: 0.2462 - acc: 0.8886 - val_loss: 0.4096 - val_acc: 0.8320\n",
      "Epoch 94/120\n",
      "10000/10000 [==============================] - 3s 308us/step - loss: 0.2442 - acc: 0.8956 - val_loss: 0.4418 - val_acc: 0.8280\n",
      "Epoch 95/120\n",
      "10000/10000 [==============================] - 3s 302us/step - loss: 0.2472 - acc: 0.8917 - val_loss: 0.4493 - val_acc: 0.8390\n",
      "Epoch 96/120\n",
      "10000/10000 [==============================] - 3s 328us/step - loss: 0.2435 - acc: 0.8944 - val_loss: 0.4385 - val_acc: 0.8210\n",
      "Epoch 97/120\n",
      "10000/10000 [==============================] - 3s 297us/step - loss: 0.2438 - acc: 0.8953 - val_loss: 0.4543 - val_acc: 0.8190\n",
      "Epoch 98/120\n",
      "10000/10000 [==============================] - 3s 314us/step - loss: 0.2447 - acc: 0.8957 - val_loss: 0.4858 - val_acc: 0.8190\n",
      "Epoch 99/120\n",
      "10000/10000 [==============================] - 3s 337us/step - loss: 0.2380 - acc: 0.8970 - val_loss: 0.4850 - val_acc: 0.8280\n",
      "Epoch 100/120\n",
      "10000/10000 [==============================] - 3s 299us/step - loss: 0.2328 - acc: 0.8978 - val_loss: 0.4378 - val_acc: 0.8320\n",
      "Epoch 101/120\n",
      "10000/10000 [==============================] - 3s 312us/step - loss: 0.2405 - acc: 0.8948 - val_loss: 0.4524 - val_acc: 0.8360\n",
      "Epoch 102/120\n",
      "10000/10000 [==============================] - 3s 284us/step - loss: 0.2385 - acc: 0.8965 - val_loss: 0.4451 - val_acc: 0.8370\n",
      "Epoch 103/120\n",
      "10000/10000 [==============================] - 3s 289us/step - loss: 0.2308 - acc: 0.9010 - val_loss: 0.4875 - val_acc: 0.8280\n",
      "Epoch 104/120\n",
      "10000/10000 [==============================] - 3s 341us/step - loss: 0.2327 - acc: 0.8995 - val_loss: 0.5141 - val_acc: 0.8140\n",
      "Epoch 105/120\n",
      "10000/10000 [==============================] - 3s 323us/step - loss: 0.2328 - acc: 0.8953 - val_loss: 0.4359 - val_acc: 0.8230\n",
      "Epoch 106/120\n",
      "10000/10000 [==============================] - 3s 339us/step - loss: 0.2278 - acc: 0.8991 - val_loss: 0.4518 - val_acc: 0.8290\n",
      "Epoch 107/120\n",
      "10000/10000 [==============================] - 3s 302us/step - loss: 0.2296 - acc: 0.9018 - val_loss: 0.5060 - val_acc: 0.8270\n",
      "Epoch 108/120\n",
      "10000/10000 [==============================] - 3s 277us/step - loss: 0.2355 - acc: 0.8980 - val_loss: 0.4363 - val_acc: 0.8240\n",
      "Epoch 109/120\n",
      "10000/10000 [==============================] - 3s 282us/step - loss: 0.2362 - acc: 0.9002 - val_loss: 0.4667 - val_acc: 0.8370\n",
      "Epoch 110/120\n",
      "10000/10000 [==============================] - 3s 276us/step - loss: 0.2325 - acc: 0.9005 - val_loss: 0.4588 - val_acc: 0.8420\n",
      "Epoch 111/120\n",
      "10000/10000 [==============================] - 3s 283us/step - loss: 0.2306 - acc: 0.8992 - val_loss: 0.4797 - val_acc: 0.8290\n",
      "Epoch 112/120\n",
      "10000/10000 [==============================] - 3s 320us/step - loss: 0.2309 - acc: 0.9024 - val_loss: 0.4851 - val_acc: 0.8320\n",
      "Epoch 113/120\n"
     ]
    },
    {
     "name": "stdout",
     "output_type": "stream",
     "text": [
      "10000/10000 [==============================] - 4s 361us/step - loss: 0.2257 - acc: 0.9023 - val_loss: 0.5467 - val_acc: 0.8050\n",
      "Epoch 114/120\n",
      "10000/10000 [==============================] - 3s 347us/step - loss: 0.2269 - acc: 0.9041 - val_loss: 0.5217 - val_acc: 0.8310\n",
      "Epoch 115/120\n",
      "10000/10000 [==============================] - 3s 307us/step - loss: 0.2218 - acc: 0.9021 - val_loss: 0.4660 - val_acc: 0.8290\n",
      "Epoch 116/120\n",
      "10000/10000 [==============================] - 3s 305us/step - loss: 0.2215 - acc: 0.9049 - val_loss: 0.5663 - val_acc: 0.8140\n",
      "Epoch 117/120\n",
      "10000/10000 [==============================] - 3s 294us/step - loss: 0.2256 - acc: 0.9021 - val_loss: 0.4753 - val_acc: 0.8360\n",
      "Epoch 118/120\n",
      "10000/10000 [==============================] - 3s 286us/step - loss: 0.2245 - acc: 0.9032 - val_loss: 0.4674 - val_acc: 0.8340\n",
      "Epoch 119/120\n",
      "10000/10000 [==============================] - 3s 283us/step - loss: 0.2271 - acc: 0.9034 - val_loss: 0.4993 - val_acc: 0.8280\n",
      "Epoch 120/120\n",
      "10000/10000 [==============================] - 3s 286us/step - loss: 0.2224 - acc: 0.8994 - val_loss: 0.5090 - val_acc: 0.8360\n"
     ]
    }
   ],
   "source": [
    "# train\n",
    "history = model.fit([inputs_train, queries_train], answers_train,batch_size=32,epochs=120,validation_data=([inputs_test, queries_test], answers_test))"
   ]
  },
  {
   "cell_type": "markdown",
   "metadata": {},
   "source": [
    "### Saving the Model"
   ]
  },
  {
   "cell_type": "code",
   "execution_count": 56,
   "metadata": {},
   "outputs": [],
   "source": [
    "filename = 'chatbot_120_epochs.h5'\n",
    "model.save(filename)"
   ]
  },
  {
   "cell_type": "markdown",
   "metadata": {},
   "source": [
    "## Evaluating the Model\n",
    "\n",
    "### Plotting Out Training History"
   ]
  },
  {
   "cell_type": "code",
   "execution_count": 57,
   "metadata": {},
   "outputs": [
    {
     "name": "stdout",
     "output_type": "stream",
     "text": [
      "dict_keys(['val_loss', 'val_acc', 'loss', 'acc'])\n"
     ]
    },
    {
     "data": {
      "image/png": "[encoded data removed]",
      "text/plain": [
       "<Figure size 432x288 with 1 Axes>"
      ]
     },
     "metadata": {
      "needs_background": "light"
     },
     "output_type": "display_data"
    }
   ],
   "source": [
    "import matplotlib.pyplot as plt\n",
    "%matplotlib inline\n",
    "print(history.history.keys())\n",
    "# summarize history for accuracy\n",
    "plt.plot(history.history['acc'])\n",
    "plt.plot(history.history['val_acc'])\n",
    "plt.title('model accuracy')\n",
    "plt.ylabel('accuracy')\n",
    "plt.xlabel('epoch')\n",
    "plt.legend(['train', 'test'], loc='upper left')\n",
    "plt.show()"
   ]
  },
  {
   "cell_type": "markdown",
   "metadata": {},
   "source": [
    "### Evaluating on Given Test Set"
   ]
  },
  {
   "cell_type": "code",
   "execution_count": 58,
   "metadata": {},
   "outputs": [],
   "source": [
    "model.load_weights(filename)\n",
    "pred_results = model.predict(([inputs_test, queries_test]))"
   ]
  },
  {
   "cell_type": "code",
   "execution_count": 59,
   "metadata": {},
   "outputs": [
    {
     "data": {
      "text/plain": [
       "['Mary',\n",
       " 'got',\n",
       " 'the',\n",
       " 'milk',\n",
       " 'there',\n",
       " '.',\n",
       " 'John',\n",
       " 'moved',\n",
       " 'to',\n",
       " 'the',\n",
       " 'bedroom',\n",
       " '.']"
      ]
     },
     "execution_count": 59,
     "metadata": {},
     "output_type": "execute_result"
    }
   ],
   "source": [
    "test_data[0][0]"
   ]
  },
  {
   "cell_type": "code",
   "execution_count": 60,
   "metadata": {},
   "outputs": [
    {
     "name": "stdout",
     "output_type": "stream",
     "text": [
      "Mary got the milk there . John moved to the bedroom .\n"
     ]
    }
   ],
   "source": [
    "story =' '.join(word for word in test_data[0][0])\n",
    "print(story)"
   ]
  },
  {
   "cell_type": "code",
   "execution_count": 61,
   "metadata": {},
   "outputs": [
    {
     "name": "stdout",
     "output_type": "stream",
     "text": [
      "Is John in the kitchen ?\n"
     ]
    }
   ],
   "source": [
    "query = ' '.join(word for word in test_data[0][1])\n",
    "print(query)"
   ]
  },
  {
   "cell_type": "code",
   "execution_count": 62,
   "metadata": {},
   "outputs": [
    {
     "name": "stdout",
     "output_type": "stream",
     "text": [
      "True Test Answer from Data is: no\n"
     ]
    }
   ],
   "source": [
    "print(\"True Test Answer from Data is:\",test_data[0][2])"
   ]
  },
  {
   "cell_type": "code",
   "execution_count": 63,
   "metadata": {},
   "outputs": [
    {
     "name": "stdout",
     "output_type": "stream",
     "text": [
      "Predicted answer is:  no\n",
      "Probability of certainty was:  0.9999987\n"
     ]
    }
   ],
   "source": [
    "#Generate prediction from model\n",
    "val_max = np.argmax(pred_results[0])\n",
    "\n",
    "for key, val in tokenizer.word_index.items():\n",
    "    if val == val_max:\n",
    "        k = key\n",
    "\n",
    "print(\"Predicted answer is: \", k)\n",
    "print(\"Probability of certainty was: \", pred_results[0][val_max])"
   ]
  },
  {
   "cell_type": "markdown",
   "metadata": {},
   "source": [
    "## Writing Your Own Stories and Questions\n",
    "\n",
    "Remember you can only use words from the existing vocab"
   ]
  },
  {
   "cell_type": "code",
   "execution_count": 64,
   "metadata": {},
   "outputs": [
    {
     "data": {
      "text/plain": [
       "{'.',\n",
       " '?',\n",
       " 'Daniel',\n",
       " 'Is',\n",
       " 'John',\n",
       " 'Mary',\n",
       " 'Sandra',\n",
       " 'apple',\n",
       " 'back',\n",
       " 'bathroom',\n",
       " 'bedroom',\n",
       " 'discarded',\n",
       " 'down',\n",
       " 'dropped',\n",
       " 'football',\n",
       " 'garden',\n",
       " 'got',\n",
       " 'grabbed',\n",
       " 'hallway',\n",
       " 'in',\n",
       " 'journeyed',\n",
       " 'kitchen',\n",
       " 'left',\n",
       " 'milk',\n",
       " 'moved',\n",
       " 'no',\n",
       " 'office',\n",
       " 'picked',\n",
       " 'put',\n",
       " 'the',\n",
       " 'there',\n",
       " 'to',\n",
       " 'took',\n",
       " 'travelled',\n",
       " 'up',\n",
       " 'went',\n",
       " 'yes'}"
      ]
     },
     "execution_count": 64,
     "metadata": {},
     "output_type": "execute_result"
    }
   ],
   "source": [
    "vocab"
   ]
  },
  {
   "cell_type": "code",
   "execution_count": 65,
   "metadata": {},
   "outputs": [
    {
     "data": {
      "text/plain": [
       "['John',\n",
       " 'left',\n",
       " 'the',\n",
       " 'kitchen',\n",
       " '.',\n",
       " 'Sandra',\n",
       " 'dropped',\n",
       " 'the',\n",
       " 'football',\n",
       " 'in',\n",
       " 'the',\n",
       " 'garden',\n",
       " '.']"
      ]
     },
     "execution_count": 65,
     "metadata": {},
     "output_type": "execute_result"
    }
   ],
   "source": [
    "# Note the whitespace of the periods\n",
    "my_story = \"John left the kitchen . Sandra dropped the football in the garden .\"\n",
    "my_story.split()"
   ]
  },
  {
   "cell_type": "code",
   "execution_count": 66,
   "metadata": {},
   "outputs": [],
   "source": [
    "my_question = \"Is the football in the garden ?\""
   ]
  },
  {
   "cell_type": "code",
   "execution_count": 67,
   "metadata": {},
   "outputs": [
    {
     "data": {
      "text/plain": [
       "['Is', 'the', 'football', 'in', 'the', 'garden', '?']"
      ]
     },
     "execution_count": 67,
     "metadata": {},
     "output_type": "execute_result"
    }
   ],
   "source": [
    "my_question.split()"
   ]
  },
  {
   "cell_type": "code",
   "execution_count": 68,
   "metadata": {},
   "outputs": [],
   "source": [
    "mydata = [(my_story.split(),my_question.split(),'yes')]"
   ]
  },
  {
   "cell_type": "code",
   "execution_count": 69,
   "metadata": {},
   "outputs": [],
   "source": [
    "my_story,my_ques,my_ans = vectorize_stories(mydata)"
   ]
  },
  {
   "cell_type": "code",
   "execution_count": 70,
   "metadata": {},
   "outputs": [],
   "source": [
    "pred_results = model.predict(([ my_story, my_ques]))"
   ]
  },
  {
   "cell_type": "code",
   "execution_count": 71,
   "metadata": {},
   "outputs": [
    {
     "name": "stdout",
     "output_type": "stream",
     "text": [
      "Predicted answer is:  yes\n",
      "Probability of certainty was:  0.9893533\n"
     ]
    }
   ],
   "source": [
    "#Generate prediction from model\n",
    "val_max = np.argmax(pred_results[0])\n",
    "\n",
    "for key, val in tokenizer.word_index.items():\n",
    "    if val == val_max:\n",
    "        k = key\n",
    "\n",
    "print(\"Predicted answer is: \", k)\n",
    "print(\"Probability of certainty was: \", pred_results[0][val_max])"
   ]
  },
  {
   "cell_type": "markdown",
   "metadata": {},
   "source": [
    "# Great Job!"
   ]
  }
 ],
 "metadata": {
  "kernelspec": {
   "display_name": "Python 3",
   "language": "python",
   "name": "python3"
  },
  "language_info": {
   "codemirror_mode": {
    "name": "ipython",
    "version": 3
   },
   "file_extension": ".py",
   "mimetype": "text/x-python",
   "name": "python",
   "nbconvert_exporter": "python",
   "pygments_lexer": "ipython3",
   "version": "3.7.6"
  }
 },
 "nbformat": 4,
 "nbformat_minor": 2
}
