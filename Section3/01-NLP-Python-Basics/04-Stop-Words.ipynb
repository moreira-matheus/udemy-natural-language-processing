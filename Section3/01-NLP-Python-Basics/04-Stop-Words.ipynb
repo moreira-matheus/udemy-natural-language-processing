{
 "cells": [
  {
   "cell_type": "markdown",
   "metadata": {},
   "source": [
    "___\n",
    "\n",
    "<a href='http://www.pieriandata.com'> <img src='../../IMG/Pierian_Data_Logo.png' /></a>\n",
    "___"
   ]
  },
  {
   "cell_type": "markdown",
   "metadata": {},
   "source": [
    "# Stop Words\n",
    "Words like \"a\" and \"the\" appear so frequently that they don't require tagging as thoroughly as nouns, verbs and modifiers. We call these *stop words*, and they can be filtered from the text to be processed. spaCy holds a built-in list of some 305 English stop words."
   ]
  },
  {
   "cell_type": "code",
   "execution_count": 1,
   "metadata": {},
   "outputs": [],
   "source": [
    "# Perform standard imports:\n",
    "import spacy\n",
    "nlp = spacy.load('en_core_web_sm')"
   ]
  },
  {
   "cell_type": "code",
   "execution_count": 2,
   "metadata": {},
   "outputs": [
    {
     "name": "stdout",
     "output_type": "stream",
     "text": [
      "{'re', 'serious', 'front', 'besides', 'hence', 'keep', 'along', 'ourselves', 'whence', 'since', 'several', 'must', 'either', 'nor', 'as', 'do', 'go', 'ours', 'she', 'became', 'also', 'hereupon', 'latter', 'anyhow', 'but', 'for', 'none', 'further', 'them', 'various', 'meanwhile', 'who', 'seem', 'whoever', 'thereby', 'could', 'why', 'done', 'during', 'eight', 'four', 'here', 'him', 'how', 'moreover', 'my', 'off', 'until', 'somehow', 'over', 'side', 'you', 'hundred', 'almost', 'anywhere', 'would', 'her', 'an', 'any', 'per', 'call', 'quite', 'can', 'nowhere', 'noone', 'around', 'because', 'nevertheless', 'such', 'already', 'five', 'beforehand', 'become', 'anyway', 'mostly', 'get', 'formerly', 'those', 'top', 'itself', 'less', 'somewhere', 'there', 'something', 'please', 'part', 'under', 'on', 'your', 'namely', 'yourself', 'did', 'from', 'afterwards', 'becomes', 'down', 'few', 'using', 'whereafter', 'thus', 'without', 'we', 'among', 'no', 'am', 'give', 'seems', 'wherever', 'each', 'hereafter', 'latterly', 'therein', 'cannot', 'forty', 'very', 'six', 'least', 'often', 'above', 'onto', 'out', 'twenty', 'up', 'sixty', 'me', 'was', 'be', 'had', 'move', 'across', 'if', 'below', 'seeming', 'then', 'he', 'or', 'while', 'seemed', 'put', 'much', 'amongst', 'throughout', 'yet', 'eleven', 'yours', 'everyone', 'just', 'others', 'hereby', 'therefore', 'may', 'whose', 'elsewhere', 'herein', 'the', 'together', 'say', 'before', 'that', 'thru', 'within', 'against', 'really', 'always', 'two', 'through', 'wherein', 'unless', 'it', 'now', 'empty', 'still', 'when', 'anyone', 'three', 'hers', 'us', 'and', 'so', 'full', 'whether', 'name', 'everywhere', 'again', 'himself', 'is', 'except', 'many', 'otherwise', 'sometimes', 'whatever', 'will', 'this', 'where', 'never', 'by', 'were', 'someone', 'amount', 'back', 'whenever', 'than', 'these', 'to', 'between', 'used', 'a', 'alone', 'most', 'regarding', 'which', 'take', 'next', 'beside', 'nobody', 'doing', 'does', 'thereafter', 'both', 'however', 'only', 'due', 'neither', 'are', 'third', 'its', 'though', 'too', 'yourselves', 'own', 'first', 'becoming', 'their', 'upon', 'behind', 'should', 'every', 'has', 'nothing', 'once', 'other', 'perhaps', 'not', 'last', 'same', 'show', 'herself', 'might', 'whole', 'see', 'everything', 'fifty', 'make', 'rather', 'into', 'thence', 'myself', 'whereas', 'his', 'bottom', 'been', 'although', 'another', 'enough', 'anything', 'being', 'they', 'have', 'former', 'one', 'toward', 'whereby', 'twelve', 'well', 'towards', 'all', 'i', 'else', 'made', 'indeed', 'fifteen', 'some', 'after', 'thereupon', 'mine', 'at', 'nine', 'more', 'with', 'ca', 'whereupon', 'whom', 'themselves', 'about', 'in', 'of', 'via', 'what', 'sometime', 'beyond', 'our', 'ten', 'whither', 'ever', 'even'}\n"
     ]
    }
   ],
   "source": [
    "# Print the set of spaCy's default stop words (remember that sets are unordered):\n",
    "print(nlp.Defaults.stop_words)"
   ]
  },
  {
   "cell_type": "code",
   "execution_count": 3,
   "metadata": {},
   "outputs": [
    {
     "data": {
      "text/plain": [
       "305"
      ]
     },
     "execution_count": 3,
     "metadata": {},
     "output_type": "execute_result"
    }
   ],
   "source": [
    "len(nlp.Defaults.stop_words)"
   ]
  },
  {
   "cell_type": "markdown",
   "metadata": {},
   "source": [
    "## To see if a word is a stop word"
   ]
  },
  {
   "cell_type": "code",
   "execution_count": 4,
   "metadata": {},
   "outputs": [
    {
     "data": {
      "text/plain": [
       "True"
      ]
     },
     "execution_count": 4,
     "metadata": {},
     "output_type": "execute_result"
    }
   ],
   "source": [
    "nlp.vocab['myself'].is_stop"
   ]
  },
  {
   "cell_type": "code",
   "execution_count": 5,
   "metadata": {},
   "outputs": [
    {
     "data": {
      "text/plain": [
       "False"
      ]
     },
     "execution_count": 5,
     "metadata": {},
     "output_type": "execute_result"
    }
   ],
   "source": [
    "nlp.vocab['mystery'].is_stop"
   ]
  },
  {
   "cell_type": "markdown",
   "metadata": {},
   "source": [
    "## To add a stop word\n",
    "There may be times when you wish to add a stop word to the default set. Perhaps you decide that `'btw'` (common shorthand for \"by the way\") should be considered a stop word."
   ]
  },
  {
   "cell_type": "code",
   "execution_count": 6,
   "metadata": {},
   "outputs": [],
   "source": [
    "# Add the word to the set of stop words. Use lowercase!\n",
    "nlp.Defaults.stop_words.add('btw')\n",
    "\n",
    "# Set the stop_word tag on the lexeme\n",
    "nlp.vocab['btw'].is_stop = True"
   ]
  },
  {
   "cell_type": "code",
   "execution_count": 7,
   "metadata": {},
   "outputs": [
    {
     "data": {
      "text/plain": [
       "306"
      ]
     },
     "execution_count": 7,
     "metadata": {},
     "output_type": "execute_result"
    }
   ],
   "source": [
    "len(nlp.Defaults.stop_words)"
   ]
  },
  {
   "cell_type": "code",
   "execution_count": 8,
   "metadata": {},
   "outputs": [
    {
     "data": {
      "text/plain": [
       "True"
      ]
     },
     "execution_count": 8,
     "metadata": {},
     "output_type": "execute_result"
    }
   ],
   "source": [
    "nlp.vocab['btw'].is_stop"
   ]
  },
  {
   "cell_type": "markdown",
   "metadata": {},
   "source": [
    "<font color=green>When adding stop words, always use lowercase. Lexemes are converted to lowercase before being added to **vocab**.</font>"
   ]
  },
  {
   "cell_type": "markdown",
   "metadata": {},
   "source": [
    "## To remove a stop word\n",
    "Alternatively, you may decide that `'beyond'` should not be considered a stop word."
   ]
  },
  {
   "cell_type": "code",
   "execution_count": 9,
   "metadata": {},
   "outputs": [],
   "source": [
    "# Remove the word from the set of stop words\n",
    "nlp.Defaults.stop_words.remove('beyond')\n",
    "\n",
    "# Remove the stop_word tag from the lexeme\n",
    "nlp.vocab['beyond'].is_stop = False"
   ]
  },
  {
   "cell_type": "code",
   "execution_count": 10,
   "metadata": {},
   "outputs": [
    {
     "data": {
      "text/plain": [
       "305"
      ]
     },
     "execution_count": 10,
     "metadata": {},
     "output_type": "execute_result"
    }
   ],
   "source": [
    "len(nlp.Defaults.stop_words)"
   ]
  },
  {
   "cell_type": "code",
   "execution_count": 11,
   "metadata": {},
   "outputs": [
    {
     "data": {
      "text/plain": [
       "False"
      ]
     },
     "execution_count": 11,
     "metadata": {},
     "output_type": "execute_result"
    }
   ],
   "source": [
    "nlp.vocab['beyond'].is_stop"
   ]
  },
  {
   "cell_type": "markdown",
   "metadata": {},
   "source": [
    "Great! Now you should be able to access spaCy's default set of stop words, and add or remove stop words as needed.\n",
    "## Next up: Vocabulary and Matching"
   ]
  }
 ],
 "metadata": {
  "kernelspec": {
   "display_name": "Python 3",
   "language": "python",
   "name": "python3"
  },
  "language_info": {
   "codemirror_mode": {
    "name": "ipython",
    "version": 3
   },
   "file_extension": ".py",
   "mimetype": "text/x-python",
   "name": "python",
   "nbconvert_exporter": "python",
   "pygments_lexer": "ipython3",
   "version": "3.7.6"
  }
 },
 "nbformat": 4,
 "nbformat_minor": 2
}
